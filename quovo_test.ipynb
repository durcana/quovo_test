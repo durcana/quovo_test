{
 "cells": [
  {
   "cell_type": "code",
   "execution_count": 1,
   "metadata": {
    "collapsed": true
   },
   "outputs": [],
   "source": [
    "import pandas as pd\n",
    "import numpy as np"
   ]
  },
  {
   "cell_type": "code",
   "execution_count": 2,
   "metadata": {
    "collapsed": false
   },
   "outputs": [],
   "source": [
    "df = pd.read_csv(\"input.csv\")"
   ]
  },
  {
   "cell_type": "code",
   "execution_count": 3,
   "metadata": {
    "collapsed": false
   },
   "outputs": [],
   "source": [
    "# order by date without changing format of Date column\n",
    "df['Date to sort'] =pd.to_datetime(df.Date)\n",
    "df = df.sort_values('Date to sort')\n",
    "del df['Date to sort']"
   ]
  },
  {
   "cell_type": "code",
   "execution_count": 4,
   "metadata": {
    "collapsed": false
   },
   "outputs": [],
   "source": [
    "#Price column, changes values of inf and 0 to NaN\n",
    "x = df['Amount']/df['Shares']\n",
    "x[np.isinf(x)] = np.nan\n",
    "x[x == 0] = np.nan\n",
    "df['Price'] = x"
   ]
  },
  {
   "cell_type": "code",
   "execution_count": 5,
   "metadata": {
    "collapsed": false
   },
   "outputs": [],
   "source": [
    "# create rules for transaction code column, add to dataframe\n",
    "def transaction_code_column(row):\n",
    "    if row['Amount'] != 0:\n",
    "        if row['Shares'] > 0:\n",
    "            return 'b'\n",
    "        elif row['Shares'] < 0:\n",
    "            return 's'\n",
    "        else:\n",
    "            if isinstance(row['Security ID'], str):\n",
    "                return 'i'\n",
    "            else:\n",
    "                return 'c'\n",
    "    elif row['Shares'] > 0 or row['Shares'] < 0:\n",
    "        return 't'\n",
    "    else:\n",
    "        return ' '\n",
    "    \n",
    "df['Transaction Code'] = df.apply (lambda row: transaction_code_column (row),axis=1)"
   ]
  },
  {
   "cell_type": "code",
   "execution_count": 6,
   "metadata": {
    "collapsed": false
   },
   "outputs": [],
   "source": [
    "# order columns for output file:\n",
    "output_df = df[[\"Security ID\", \"Transaction Code\", \"Shares\", \"Date\", \"Price\", \"Amount\", \"Transaction Description\"]]"
   ]
  },
  {
   "cell_type": "code",
   "execution_count": 7,
   "metadata": {
    "collapsed": false
   },
   "outputs": [
    {
     "data": {
      "text/html": [
       "<div>\n",
       "<table border=\"1\" class=\"dataframe\">\n",
       "  <thead>\n",
       "    <tr style=\"text-align: right;\">\n",
       "      <th></th>\n",
       "      <th>Security ID</th>\n",
       "      <th>Transaction Code</th>\n",
       "      <th>Shares</th>\n",
       "      <th>Date</th>\n",
       "      <th>Price</th>\n",
       "      <th>Amount</th>\n",
       "      <th>Transaction Description</th>\n",
       "    </tr>\n",
       "  </thead>\n",
       "  <tbody>\n",
       "    <tr>\n",
       "      <th>258</th>\n",
       "      <td>713448108</td>\n",
       "      <td>i</td>\n",
       "      <td>NaN</td>\n",
       "      <td>3/31/16</td>\n",
       "      <td>NaN</td>\n",
       "      <td>3863.75</td>\n",
       "      <td>CASH RECEIPT DIVIDEND EARNED ON PEPSICO INC $ ...</td>\n",
       "    </tr>\n",
       "    <tr>\n",
       "      <th>329</th>\n",
       "      <td>261908107</td>\n",
       "      <td>b</td>\n",
       "      <td>3863.75</td>\n",
       "      <td>3/31/16</td>\n",
       "      <td>-1</td>\n",
       "      <td>-3863.75</td>\n",
       "      <td>PURCHASED DREYFUS TREAS CASH MGMT INSTL SHARES</td>\n",
       "    </tr>\n",
       "    <tr>\n",
       "      <th>222</th>\n",
       "      <td>53015103</td>\n",
       "      <td>i</td>\n",
       "      <td>NaN</td>\n",
       "      <td>4/1/16</td>\n",
       "      <td>NaN</td>\n",
       "      <td>2650.00</td>\n",
       "      <td>CASH RECEIPT DIVIDEND EARNED ON AUTOMATIC DATA...</td>\n",
       "    </tr>\n",
       "    <tr>\n",
       "      <th>239</th>\n",
       "      <td>261908107</td>\n",
       "      <td>i</td>\n",
       "      <td>NaN</td>\n",
       "      <td>4/1/16</td>\n",
       "      <td>NaN</td>\n",
       "      <td>49.96</td>\n",
       "      <td>CASH RECEIPT INTEREST EARNED ON DREYFUS TREAS ...</td>\n",
       "    </tr>\n",
       "    <tr>\n",
       "      <th>330</th>\n",
       "      <td>261908107</td>\n",
       "      <td>b</td>\n",
       "      <td>2650.00</td>\n",
       "      <td>4/1/16</td>\n",
       "      <td>-1</td>\n",
       "      <td>-2650.00</td>\n",
       "      <td>PURCHASED DREYFUS TREAS CASH MGMT INSTL SHARES</td>\n",
       "    </tr>\n",
       "  </tbody>\n",
       "</table>\n",
       "</div>"
      ],
      "text/plain": [
       "    Security ID Transaction Code   Shares     Date  Price   Amount  \\\n",
       "258   713448108                i      NaN  3/31/16    NaN  3863.75   \n",
       "329   261908107                b  3863.75  3/31/16     -1 -3863.75   \n",
       "222    53015103                i      NaN   4/1/16    NaN  2650.00   \n",
       "239   261908107                i      NaN   4/1/16    NaN    49.96   \n",
       "330   261908107                b  2650.00   4/1/16     -1 -2650.00   \n",
       "\n",
       "                               Transaction Description  \n",
       "258  CASH RECEIPT DIVIDEND EARNED ON PEPSICO INC $ ...  \n",
       "329     PURCHASED DREYFUS TREAS CASH MGMT INSTL SHARES  \n",
       "222  CASH RECEIPT DIVIDEND EARNED ON AUTOMATIC DATA...  \n",
       "239  CASH RECEIPT INTEREST EARNED ON DREYFUS TREAS ...  \n",
       "330     PURCHASED DREYFUS TREAS CASH MGMT INSTL SHARES  "
      ]
     },
     "execution_count": 7,
     "metadata": {},
     "output_type": "execute_result"
    }
   ],
   "source": [
    "output_df.tail()"
   ]
  },
  {
   "cell_type": "code",
   "execution_count": 8,
   "metadata": {
    "collapsed": false
   },
   "outputs": [],
   "source": [
    "# Save as 'output.csv'  pipe delimited\n",
    "df.to_csv('output.csv',sep='|')"
   ]
  },
  {
   "cell_type": "code",
   "execution_count": null,
   "metadata": {
    "collapsed": true
   },
   "outputs": [],
   "source": []
  },
  {
   "cell_type": "code",
   "execution_count": null,
   "metadata": {
    "collapsed": true
   },
   "outputs": [],
   "source": []
  },
  {
   "cell_type": "code",
   "execution_count": null,
   "metadata": {
    "collapsed": true
   },
   "outputs": [],
   "source": []
  }
 ],
 "metadata": {
  "kernelspec": {
   "display_name": "Python 3",
   "language": "python",
   "name": "python3"
  },
  "language_info": {
   "codemirror_mode": {
    "name": "ipython",
    "version": 3
   },
   "file_extension": ".py",
   "mimetype": "text/x-python",
   "name": "python",
   "nbconvert_exporter": "python",
   "pygments_lexer": "ipython3",
   "version": "3.5.1"
  }
 },
 "nbformat": 4,
 "nbformat_minor": 0
}
